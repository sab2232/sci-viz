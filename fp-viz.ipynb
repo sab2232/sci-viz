{
 "cells": [
  {
   "cell_type": "markdown",
   "metadata": {},
   "source": [
    "    <Volume Data Parser> In takes the volumetric segmentation<25>\n",
    "\n",
    "    <​DTI data Parser> In takes DTI data and converts to 3D file <25>\n",
    "\n",
    "    <​interaction function:switch between healthy/Diseased>This function should modulate display of the regions of interest between the healthy controls and the neurodegeneration... Hopefully some kind of animation to depict the transition of the disease <25>\n",
    "\n",
    "    <​interaction function: select roi>This should highlight a specific region (Hippocampus/Entorhinal Cortex/Nucleus Basalis of Meynert etc.) and select between diffusion/Volumetric rendering. <25>"
   ]
  },
  {
   "cell_type": "code",
   "execution_count": 4,
   "metadata": {},
   "outputs": [],
   "source": [
    "import pyvista as pv"
   ]
  },
  {
   "cell_type": "code",
   "execution_count": 5,
   "metadata": {},
   "outputs": [],
   "source": [
    "mesh=pv.read('~/UIUC/CS519-SciViz/final_pj/cntr_first/T1-L_Hipp_first.vtk')"
   ]
  },
  {
   "cell_type": "code",
   "execution_count": 8,
   "metadata": {},
   "outputs": [
    {
     "data": {
      "application/vnd.jupyter.widget-view+json": {
       "model_id": "5fa4c972bc0f475bb1228b5eb180d6cf",
       "version_major": 2,
       "version_minor": 0
      },
      "text/plain": [
       "ViewInteractiveWidget(height=768, layout=Layout(height='auto', width='100%'), width=1024)"
      ]
     },
     "metadata": {},
     "output_type": "display_data"
    }
   ],
   "source": [
    "mesh.plot()"
   ]
  }
 ],
 "metadata": {
  "interpreter": {
   "hash": "aee8b7b246df8f9039afb4144a1f6fd8d2ca17a180786b69acc140d282b71a49"
  },
  "kernelspec": {
   "display_name": "Python 3.8.5 64-bit",
   "name": "python3"
  },
  "language_info": {
   "codemirror_mode": {
    "name": "ipython",
    "version": 3
   },
   "file_extension": ".py",
   "mimetype": "text/x-python",
   "name": "python",
   "nbconvert_exporter": "python",
   "pygments_lexer": "ipython3",
   "version": "3.8.5"
  },
  "orig_nbformat": 4
 },
 "nbformat": 4,
 "nbformat_minor": 2
}
